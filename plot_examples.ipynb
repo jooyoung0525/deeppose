{
 "cells": [
  {
   "cell_type": "code",
   "execution_count": 2,
   "metadata": {},
   "outputs": [],
   "source": [
    "import matplotlib.pyplot as pyplot\n",
    "%matplotlib inline"
   ]
  },
  {
   "cell_type": "code",
   "execution_count": 4,
   "metadata": {},
   "outputs": [
    {
     "name": "stderr",
     "output_type": "stream",
     "text": [
      "91it [00:00, 903.97it/s]"
     ]
    },
    {
     "name": "stdout",
     "output_type": "stream",
     "text": [
      "Reading dataset from /home/yyoo/data/lsp/test_joints.csv\n",
      "Downscale images to the height 400px\n"
     ]
    },
    {
     "name": "stderr",
     "output_type": "stream",
     "text": [
      "1000it [00:00, 1714.56it/s]"
     ]
    },
    {
     "name": "stdout",
     "output_type": "stream",
     "text": [
      "Joints shape: (14, 2)\n"
     ]
    },
    {
     "name": "stderr",
     "output_type": "stream",
     "text": [
      "\n"
     ]
    }
   ],
   "source": [
    "# loading scripts are in scripts/dataset.py\n",
    "from scripts import dataset\n",
    "import chainer\n",
    "import os\n",
    "\n",
    "# example code from tests/test_snapshot.py\n",
    "dataset_name = 'lsp'\n",
    "#dataset_name = 'lsp'\n",
    "\n",
    "if dataset_name == 'mpii':\n",
    "    DATASET_ROOT = os.path.expanduser('~/data/mpii')  # MPII dataset is here\n",
    "    TEST_CV_FILEPATH = os.path.join(DATASET_ROOT, 'test_joints.csv')\n",
    "    IMG_PATH_PREFIX = os.path.join(MPII_DATASET_ROOT, 'images')\n",
    "    symmetric_joints = \"[[12, 13], [11, 14], [10, 15], [2, 3], [1, 4], [0, 5]]\"\n",
    "    ignore_label = -100500\n",
    "else:\n",
    "    DATASET_ROOT = os.path.expanduser('~/data/lsp')  # LSP dataset is here\n",
    "    TEST_CV_FILEPATH = os.path.join(DATASET_ROOT, 'test_joints.csv')\n",
    "    IMG_PATH_PREFIX = os.path.join(DATASET_ROOT, 'images')\n",
    "    symmetric_joints = \"[[8, 9], [7, 10], [6, 11], [2, 3], [1, 4], [0, 5]]\"\n",
    "    ignore_label = -1\n",
    "\n",
    "test_dataset = dataset.PoseDataset(\n",
    "        TEST_CV_FILEPATH,\n",
    "        IMG_PATH_PREFIX, 227,\n",
    "        fliplr=False, rotate=False,\n",
    "        shift=None,\n",
    "        bbox_extension_range=(1.0, 1.0),\n",
    "        coord_normalize=True,\n",
    "        gcn=True,\n",
    "        fname_index=0,\n",
    "        joint_index=1,\n",
    "        symmetric_joints=symmetric_joints,\n",
    "        ignore_label=ignore_label,\n",
    "        should_return_bbox=True,\n",
    "        should_downscale_images=True,\n",
    "        downscale_height=400\n",
    ")"
   ]
  },
  {
   "cell_type": "code",
   "execution_count": null,
   "metadata": {
    "collapsed": true
   },
   "outputs": [],
   "source": []
  }
 ],
 "metadata": {
  "kernelspec": {
   "display_name": "Python 3",
   "language": "python",
   "name": "python3"
  },
  "language_info": {
   "codemirror_mode": {
    "name": "ipython",
    "version": 3
   },
   "file_extension": ".py",
   "mimetype": "text/x-python",
   "name": "python",
   "nbconvert_exporter": "python",
   "pygments_lexer": "ipython3",
   "version": "3.5.2"
  }
 },
 "nbformat": 4,
 "nbformat_minor": 2
}
